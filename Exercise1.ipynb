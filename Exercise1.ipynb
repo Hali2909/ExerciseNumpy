{
 "cells": [
  {
   "cell_type": "code",
   "execution_count": null,
   "id": "81bc3038",
   "metadata": {},
   "outputs": [],
   "source": [
    "import numpy as np\n",
    "\n",
    "def create_mean():\n",
    "    np.random.seed(100)\n",
    "    \n",
    "    arraytemp = np.random.uniform(low=10, high=30, size=(30,24))\n",
    "    array_average_day = np.mean(arraytemp, axis=1) \n",
    "    #find the day with the higher and lower medium temp\n",
    "    high_temp_day = np.argmax(array_average_day)\n",
    "    low_temp_day = np.argmin(array_average_day)\n",
    "    #problem with the measurement so it need to add 2 grades \n",
    "    correct_arraytemp = arraytemp + 2\n",
    "    #correct the value that are higher than 30\n",
    "    correct_arraytemp[correct_arraytemp > 30] = 30\n",
    "    #count the value higher than 23\n",
    "    count_h23 = np.sum(arraytemp > 23)\n",
    "    #calculate the difference between the avg of the third 3 dau of september and the last 3 days of september\n",
    "    avg_first3days =  np.mean(correct_arraytemp[:3])\n",
    "    avg_last3days = np.mean(correct_arraytemp[-3:])\n",
    "    difference = avg_first3days - avg_last3days\n",
    "    print(difference)\n",
    "    #creation of a new column with mediana day\n",
    "    daily_median = np.median(correct_arraytemp, axis=1).reshape(-1,1)\n",
    "    #add this last column to the 2D-array\n",
    "    correct_arraytemp = np.concatenate((correct_arraytemp,daily_median), axis = 1)"
   ]
  },
  {
   "cell_type": "code",
   "execution_count": 9,
   "id": "8c525147",
   "metadata": {},
   "outputs": [
    {
     "name": "stdout",
     "output_type": "stream",
     "text": [
      "print temp max 29.989583022645874\n",
      "print temp min 10.009735189505198\n"
     ]
    }
   ],
   "source": [
    "import numpy as np\n",
    "def create():\n",
    "    np.random.seed(100)\n",
    "    arraytemp = np.random.uniform(low=10, high=30, size=(30,24))\n",
    "   # print(arraytemp)\n",
    "\n",
    "    #find the highest temp and the lower temp\n",
    "    max_temp = np.max(arraytemp)\n",
    "    min_temp = np.min(arraytemp)\n",
    "    print(f\"print temp max {max_temp}\")\n",
    "    print(f\"print temp min {min_temp}\")\n",
    "\n",
    "create()"
   ]
  },
  {
   "cell_type": "code",
   "execution_count": 3,
   "id": "4e69b87b",
   "metadata": {},
   "outputs": [],
   "source": [
    "import numpy as np\n"
   ]
  }
 ],
 "metadata": {
  "kernelspec": {
   "display_name": "venv",
   "language": "python",
   "name": "python3"
  },
  "language_info": {
   "codemirror_mode": {
    "name": "ipython",
    "version": 3
   },
   "file_extension": ".py",
   "mimetype": "text/x-python",
   "name": "python",
   "nbconvert_exporter": "python",
   "pygments_lexer": "ipython3",
   "version": "3.13.6"
  }
 },
 "nbformat": 4,
 "nbformat_minor": 5
}

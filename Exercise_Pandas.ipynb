{
 "cells": [
  {
   "cell_type": "code",
   "execution_count": null,
   "id": "e67d9eed",
   "metadata": {},
   "outputs": [],
   "source": [
    "'''Series are a couple of elements kinda like the dictionary'''"
   ]
  },
  {
   "cell_type": "code",
   "execution_count": 2,
   "id": "99c6a06f",
   "metadata": {},
   "outputs": [],
   "source": [
    "import pandas as pd\n",
    "import numpy as np"
   ]
  },
  {
   "cell_type": "code",
   "execution_count": null,
   "id": "d9a2307f",
   "metadata": {},
   "outputs": [
    {
     "name": "stdout",
     "output_type": "stream",
     "text": [
      "0    3\n",
      "1    7\n",
      "2    5\n",
      "3    8\n",
      "dtype: int64\n"
     ]
    }
   ],
   "source": [
    "#create a series that means create a sequence of numbers where each one is assigned by the index\n",
    "obj = pd.Series([3,7,5,8])\n",
    "print(obj) #first column is the index column, while the second is for the vaues"
   ]
  },
  {
   "cell_type": "code",
   "execution_count": 5,
   "id": "6d0a96b7",
   "metadata": {},
   "outputs": [
    {
     "name": "stdout",
     "output_type": "stream",
     "text": [
      "[3 7 5 8]\n",
      "RangeIndex(start=0, stop=4, step=1)\n"
     ]
    }
   ],
   "source": [
    "#let's have just the column value as output and then just the index column\n",
    "print(obj.values)\n",
    "print(obj.index)"
   ]
  },
  {
   "cell_type": "code",
   "execution_count": 9,
   "id": "af6d1b40",
   "metadata": {},
   "outputs": [
    {
     "name": "stdout",
     "output_type": "stream",
     "text": [
      "a    3\n",
      "b    6\n",
      "c    8\n",
      "d    2\n",
      "dtype: int64\n"
     ]
    }
   ],
   "source": [
    "#Actually i can change also the index column as i want, but for default the system just give you the sort numbers from 0 to n-1\n",
    "\n",
    "obj2 = pd.Series([3,6,8,2], index=(['a','b','c','d']))\n",
    "print(obj2)"
   ]
  },
  {
   "cell_type": "code",
   "execution_count": 10,
   "id": "b1e086a9",
   "metadata": {},
   "outputs": [
    {
     "data": {
      "text/plain": [
       "np.int64(8)"
      ]
     },
     "execution_count": 10,
     "metadata": {},
     "output_type": "execute_result"
    }
   ],
   "source": [
    "#to find the value based on the index:\n",
    "obj2['c']"
   ]
  },
  {
   "cell_type": "code",
   "execution_count": 11,
   "id": "53fe00b4",
   "metadata": {},
   "outputs": [
    {
     "data": {
      "text/plain": [
       "np.int64(17)"
      ]
     },
     "execution_count": 11,
     "metadata": {},
     "output_type": "execute_result"
    }
   ],
   "source": [
    "#Lets change the value of the index d\n",
    "obj2['d'] = 17\n",
    "obj2['d']"
   ]
  },
  {
   "cell_type": "code",
   "execution_count": 15,
   "id": "6bbb8f08",
   "metadata": {},
   "outputs": [
    {
     "data": {
      "text/plain": [
       "b    6\n",
       "c    8\n",
       "dtype: int64"
      ]
     },
     "execution_count": 15,
     "metadata": {},
     "output_type": "execute_result"
    }
   ],
   "source": [
    "#lets try the slicing\n",
    "obj2['b':'c']  "
   ]
  },
  {
   "cell_type": "code",
   "execution_count": 21,
   "id": "5ebdc7a7",
   "metadata": {},
   "outputs": [
    {
     "data": {
      "text/plain": [
       "a     True\n",
       "b     True\n",
       "c    False\n",
       "d    False\n",
       "dtype: bool"
      ]
     },
     "execution_count": 21,
     "metadata": {},
     "output_type": "execute_result"
    }
   ],
   "source": [
    "#if a use the '>' or '<' it will return the boolean array\n",
    "obj2 <=6"
   ]
  },
  {
   "cell_type": "code",
   "execution_count": 22,
   "id": "6a5c4c30",
   "metadata": {},
   "outputs": [
    {
     "data": {
      "text/plain": [
       "a    3\n",
       "b    6\n",
       "dtype: int64"
      ]
     },
     "execution_count": 22,
     "metadata": {},
     "output_type": "execute_result"
    }
   ],
   "source": [
    "#if i put the condition inside the square brackets it will return the Series with the elements that satisfy the condition\n",
    "obj2[obj2 <= 6]"
   ]
  },
  {
   "cell_type": "code",
   "execution_count": null,
   "id": "6734c593",
   "metadata": {},
   "outputs": [
    {
     "data": {
      "text/plain": [
       "False"
      ]
     },
     "execution_count": 24,
     "metadata": {},
     "output_type": "execute_result"
    }
   ],
   "source": [
    "#check if a index is in the Series\n",
    "'l' in obj2 #or l in obj2 also in this case will research inside the indexs\n"
   ]
  },
  {
   "cell_type": "code",
   "execution_count": null,
   "id": "ce72b14e",
   "metadata": {},
   "outputs": [
    {
     "data": {
      "text/plain": [
       "True"
      ]
     },
     "execution_count": 36,
     "metadata": {},
     "output_type": "execute_result"
    }
   ],
   "source": [
    "#check if it is in the values\n",
    "3 in obj2.values\n",
    "#obj2.isin([6]) another way that return a boolean array\n",
    "#obj2 == 2 same of the last comment"
   ]
  },
  {
   "cell_type": "code",
   "execution_count": 42,
   "id": "6ce9979d",
   "metadata": {},
   "outputs": [
    {
     "name": "stdout",
     "output_type": "stream",
     "text": [
      "a     3\n",
      "b     6\n",
      "c     8\n",
      "d    17\n",
      "dtype: int64\n",
      "True\n",
      "False\n",
      "1\n"
     ]
    }
   ],
   "source": [
    "#sum is used for sum the '1' in the boolean array\n",
    "#all is used for seeing if the condition is satisfy by all elements\n",
    "#any is usef for seeing if the condition is satisfy\n",
    "print(obj2)\n",
    "print((obj2 == 3).any())\n",
    "print((obj2 == 3).all())\n",
    "print((obj2 == 3).sum())\n",
    "\n"
   ]
  },
  {
   "cell_type": "code",
   "execution_count": 45,
   "id": "e4b294d5",
   "metadata": {},
   "outputs": [
    {
     "name": "stdout",
     "output_type": "stream",
     "text": [
      "a     6.0\n",
      "b    14.0\n",
      "c    10.0\n",
      "d    12.0\n",
      "l    10.0\n",
      "dtype: float64\n"
     ]
    }
   ],
   "source": [
    "#To do the addition between two series we can not do the simple plus\n",
    "#because the system usually check the index and sum just the elements \n",
    "#with the same index while the other will turn into NaN\n",
    "#to avoid this we need to use the function add\n",
    "\n",
    "obj3 = pd.Series([3, 7, 10, 6 ], index=['a','b','c','d'])\n",
    "\n",
    "obj4 = pd.Series([3, 7, 10, 6 ], index=['a','b','l','d'])\n",
    "print(obj3.add(obj4, fill_value=0))"
   ]
  },
  {
   "cell_type": "code",
   "execution_count": null,
   "id": "7fffee18",
   "metadata": {},
   "outputs": [
    {
     "data": {
      "text/plain": [
       "{'a': 3, 'b': 7, 'l': 10, 'd': 6}"
      ]
     },
     "execution_count": 49,
     "metadata": {},
     "output_type": "execute_result"
    }
   ],
   "source": [
    "#to pass from Series to dict\n",
    "obj4.to_dict()\n"
   ]
  },
  {
   "cell_type": "code",
   "execution_count": 52,
   "id": "3b43514b",
   "metadata": {},
   "outputs": [
    {
     "data": {
      "text/plain": [
       "a     3\n",
       "b     7\n",
       "l    10\n",
       "d     6\n",
       "dtype: int64"
      ]
     },
     "execution_count": 52,
     "metadata": {},
     "output_type": "execute_result"
    }
   ],
   "source": [
    "#To pass from dict to series it needed to put as argument the dict\n",
    "obj5 = pd.Series(obj4)\n",
    "obj5"
   ]
  },
  {
   "cell_type": "code",
   "execution_count": 53,
   "id": "1987206a",
   "metadata": {},
   "outputs": [
    {
     "data": {
      "text/plain": [
       "a    False\n",
       "b    False\n",
       "l    False\n",
       "d    False\n",
       "dtype: bool"
      ]
     },
     "execution_count": 53,
     "metadata": {},
     "output_type": "execute_result"
    }
   ],
   "source": [
    "#check null\n",
    "pd.isnull(obj5)"
   ]
  },
  {
   "cell_type": "markdown",
   "id": "8fe3cad5",
   "metadata": {},
   "source": [
    "Dropping method"
   ]
  },
  {
   "cell_type": "code",
   "execution_count": 55,
   "id": "a780f9d3",
   "metadata": {},
   "outputs": [
    {
     "data": {
      "text/plain": [
       "a    0.0\n",
       "b    1.0\n",
       "c    2.0\n",
       "d    3.0\n",
       "e    4.0\n",
       "dtype: float64"
      ]
     },
     "execution_count": 55,
     "metadata": {},
     "output_type": "execute_result"
    }
   ],
   "source": [
    "#To drop one of the elements\n",
    "obj7 = pd.Series(np.arange(5.),index=['a','b','c','d','e'])\n",
    "obj7"
   ]
  },
  {
   "cell_type": "code",
   "execution_count": null,
   "id": "50f0f59d",
   "metadata": {},
   "outputs": [
    {
     "data": {
      "text/plain": [
       "a    0.0\n",
       "b    1.0\n",
       "d    3.0\n",
       "e    4.0\n",
       "dtype: float64"
      ]
     },
     "execution_count": 56,
     "metadata": {},
     "output_type": "execute_result"
    }
   ],
   "source": [
    "obj7.drop('c', inplace=True)\n",
    "#or obj7 = obj7.drop('c') do it like this make sure that elements is deleted\n"
   ]
  },
  {
   "cell_type": "markdown",
   "id": "6ffa7450",
   "metadata": {},
   "source": [
    "NAMES"
   ]
  },
  {
   "cell_type": "code",
   "execution_count": 59,
   "id": "28298eb3",
   "metadata": {},
   "outputs": [],
   "source": [
    "#give the name for index and for values\n",
    "obj7.name = 'Numbers'\n",
    "obj7.index.name = 'Letters'\n"
   ]
  },
  {
   "cell_type": "code",
   "execution_count": 60,
   "id": "a00e593c",
   "metadata": {},
   "outputs": [
    {
     "data": {
      "text/plain": [
       "Letters\n",
       "a    0.0\n",
       "b    1.0\n",
       "c    2.0\n",
       "d    3.0\n",
       "e    4.0\n",
       "Name: Numbers, dtype: float64"
      ]
     },
     "execution_count": 60,
     "metadata": {},
     "output_type": "execute_result"
    }
   ],
   "source": [
    "obj7"
   ]
  },
  {
   "cell_type": "markdown",
   "id": "91bc5d36",
   "metadata": {},
   "source": [
    "Exercise random"
   ]
  },
  {
   "cell_type": "code",
   "execution_count": 61,
   "id": "b25dba12",
   "metadata": {},
   "outputs": [
    {
     "data": {
      "text/plain": [
       "np.int64(60)"
      ]
     },
     "execution_count": 61,
     "metadata": {},
     "output_type": "execute_result"
    }
   ],
   "source": [
    "fruits_week = pd.Series([10,20,30,40,50,60,70], index=['mo','th','we','thu','fri','sat','sun'])\n",
    "#select the quantity of fruit sell on saturday\n",
    "fruits_week['sat']"
   ]
  },
  {
   "cell_type": "code",
   "execution_count": 84,
   "id": "05e30012",
   "metadata": {},
   "outputs": [
    {
     "data": {
      "text/plain": [
       "np.int64(180)"
      ]
     },
     "execution_count": 84,
     "metadata": {},
     "output_type": "execute_result"
    }
   ],
   "source": [
    "#find the sum of quantity during the weekend\n",
    "fruits_week['fri':].sum()\n",
    "\n",
    "fruits_week[-3:].sum()\n"
   ]
  },
  {
   "cell_type": "code",
   "execution_count": 86,
   "id": "1aefae2d",
   "metadata": {},
   "outputs": [
    {
     "data": {
      "text/plain": [
       "np.int64(4)"
      ]
     },
     "execution_count": 86,
     "metadata": {},
     "output_type": "execute_result"
    }
   ],
   "source": [
    "#how many days the quantity is higher than 30\n",
    "(fruits_week > 30).sum()"
   ]
  },
  {
   "cell_type": "markdown",
   "id": "4ba1efd0",
   "metadata": {},
   "source": [
    "DataFrame"
   ]
  },
  {
   "cell_type": "code",
   "execution_count": 90,
   "id": "2cd63cac",
   "metadata": {},
   "outputs": [
    {
     "data": {
      "text/html": [
       "<div>\n",
       "<style scoped>\n",
       "    .dataframe tbody tr th:only-of-type {\n",
       "        vertical-align: middle;\n",
       "    }\n",
       "\n",
       "    .dataframe tbody tr th {\n",
       "        vertical-align: top;\n",
       "    }\n",
       "\n",
       "    .dataframe thead th {\n",
       "        text-align: right;\n",
       "    }\n",
       "</style>\n",
       "<table border=\"1\" class=\"dataframe\">\n",
       "  <thead>\n",
       "    <tr style=\"text-align: right;\">\n",
       "      <th></th>\n",
       "      <th>State</th>\n",
       "      <th>years</th>\n",
       "      <th>pop</th>\n",
       "    </tr>\n",
       "  </thead>\n",
       "  <tbody>\n",
       "    <tr>\n",
       "      <th>0</th>\n",
       "      <td>ohio</td>\n",
       "      <td>2000</td>\n",
       "      <td>1.3</td>\n",
       "    </tr>\n",
       "    <tr>\n",
       "      <th>1</th>\n",
       "      <td>ohio</td>\n",
       "      <td>2001</td>\n",
       "      <td>1.2</td>\n",
       "    </tr>\n",
       "    <tr>\n",
       "      <th>2</th>\n",
       "      <td>ohio</td>\n",
       "      <td>2002</td>\n",
       "      <td>3.4</td>\n",
       "    </tr>\n",
       "    <tr>\n",
       "      <th>3</th>\n",
       "      <td>Nevada</td>\n",
       "      <td>2003</td>\n",
       "      <td>6.0</td>\n",
       "    </tr>\n",
       "  </tbody>\n",
       "</table>\n",
       "</div>"
      ],
      "text/plain": [
       "    State  years  pop\n",
       "0    ohio   2000  1.3\n",
       "1    ohio   2001  1.2\n",
       "2    ohio   2002  3.4\n",
       "3  Nevada   2003  6.0"
      ]
     },
     "execution_count": 90,
     "metadata": {},
     "output_type": "execute_result"
    }
   ],
   "source": [
    "'''We can see Dataframe as a collection of series where every column and every row\n",
    "is a series.\n",
    "To inizialize a DataFrame we can used a dict'''\n",
    "data = {'State': ['ohio', 'ohio', 'ohio', 'Nevada'],\n",
    "        'years': [2000, 2001, 2002, 2003],\n",
    "        'pop' : [1.3, 1.2, 3.4, 6]\n",
    "        }\n",
    "frame = pd.DataFrame(data)\n",
    "frame"
   ]
  },
  {
   "cell_type": "code",
   "execution_count": 93,
   "id": "a336afac",
   "metadata": {},
   "outputs": [
    {
     "data": {
      "text/plain": [
       "3"
      ]
     },
     "execution_count": 93,
     "metadata": {},
     "output_type": "execute_result"
    }
   ],
   "source": [
    "frame.shape\n",
    "frame.shape[0] #number of row\n",
    "frame.shape[1] #number of column\n",
    "\n"
   ]
  },
  {
   "cell_type": "code",
   "execution_count": 94,
   "id": "3987ac16",
   "metadata": {},
   "outputs": [
    {
     "data": {
      "text/html": [
       "<div>\n",
       "<style scoped>\n",
       "    .dataframe tbody tr th:only-of-type {\n",
       "        vertical-align: middle;\n",
       "    }\n",
       "\n",
       "    .dataframe tbody tr th {\n",
       "        vertical-align: top;\n",
       "    }\n",
       "\n",
       "    .dataframe thead th {\n",
       "        text-align: right;\n",
       "    }\n",
       "</style>\n",
       "<table border=\"1\" class=\"dataframe\">\n",
       "  <thead>\n",
       "    <tr style=\"text-align: right;\">\n",
       "      <th></th>\n",
       "      <th>State</th>\n",
       "      <th>years</th>\n",
       "      <th>pop</th>\n",
       "    </tr>\n",
       "  </thead>\n",
       "  <tbody>\n",
       "    <tr>\n",
       "      <th>0</th>\n",
       "      <td>ohio</td>\n",
       "      <td>2000</td>\n",
       "      <td>1.3</td>\n",
       "    </tr>\n",
       "    <tr>\n",
       "      <th>1</th>\n",
       "      <td>ohio</td>\n",
       "      <td>2001</td>\n",
       "      <td>1.2</td>\n",
       "    </tr>\n",
       "  </tbody>\n",
       "</table>\n",
       "</div>"
      ],
      "text/plain": [
       "  State  years  pop\n",
       "0  ohio   2000  1.3\n",
       "1  ohio   2001  1.2"
      ]
     },
     "execution_count": 94,
     "metadata": {},
     "output_type": "execute_result"
    }
   ],
   "source": [
    "#first rows\n",
    "frame.head(2)"
   ]
  },
  {
   "cell_type": "code",
   "execution_count": 95,
   "id": "97de3a6c",
   "metadata": {},
   "outputs": [
    {
     "data": {
      "text/html": [
       "<div>\n",
       "<style scoped>\n",
       "    .dataframe tbody tr th:only-of-type {\n",
       "        vertical-align: middle;\n",
       "    }\n",
       "\n",
       "    .dataframe tbody tr th {\n",
       "        vertical-align: top;\n",
       "    }\n",
       "\n",
       "    .dataframe thead th {\n",
       "        text-align: right;\n",
       "    }\n",
       "</style>\n",
       "<table border=\"1\" class=\"dataframe\">\n",
       "  <thead>\n",
       "    <tr style=\"text-align: right;\">\n",
       "      <th></th>\n",
       "      <th>State</th>\n",
       "      <th>years</th>\n",
       "      <th>pop</th>\n",
       "    </tr>\n",
       "  </thead>\n",
       "  <tbody>\n",
       "    <tr>\n",
       "      <th>2</th>\n",
       "      <td>ohio</td>\n",
       "      <td>2002</td>\n",
       "      <td>3.4</td>\n",
       "    </tr>\n",
       "    <tr>\n",
       "      <th>3</th>\n",
       "      <td>Nevada</td>\n",
       "      <td>2003</td>\n",
       "      <td>6.0</td>\n",
       "    </tr>\n",
       "  </tbody>\n",
       "</table>\n",
       "</div>"
      ],
      "text/plain": [
       "    State  years  pop\n",
       "2    ohio   2002  3.4\n",
       "3  Nevada   2003  6.0"
      ]
     },
     "execution_count": 95,
     "metadata": {},
     "output_type": "execute_result"
    }
   ],
   "source": [
    "#last rows\n",
    "frame.tail(2)"
   ]
  },
  {
   "cell_type": "code",
   "execution_count": 96,
   "id": "2710cbff",
   "metadata": {},
   "outputs": [
    {
     "data": {
      "text/html": [
       "<div>\n",
       "<style scoped>\n",
       "    .dataframe tbody tr th:only-of-type {\n",
       "        vertical-align: middle;\n",
       "    }\n",
       "\n",
       "    .dataframe tbody tr th {\n",
       "        vertical-align: top;\n",
       "    }\n",
       "\n",
       "    .dataframe thead th {\n",
       "        text-align: right;\n",
       "    }\n",
       "</style>\n",
       "<table border=\"1\" class=\"dataframe\">\n",
       "  <thead>\n",
       "    <tr style=\"text-align: right;\">\n",
       "      <th></th>\n",
       "      <th>State</th>\n",
       "      <th>years</th>\n",
       "      <th>pop</th>\n",
       "    </tr>\n",
       "  </thead>\n",
       "  <tbody>\n",
       "    <tr>\n",
       "      <th>3</th>\n",
       "      <td>Nevada</td>\n",
       "      <td>2003</td>\n",
       "      <td>6.0</td>\n",
       "    </tr>\n",
       "  </tbody>\n",
       "</table>\n",
       "</div>"
      ],
      "text/plain": [
       "    State  years  pop\n",
       "3  Nevada   2003  6.0"
      ]
     },
     "execution_count": 96,
     "metadata": {},
     "output_type": "execute_result"
    }
   ],
   "source": [
    "#random lines in frame\n",
    "frame.sample()"
   ]
  },
  {
   "cell_type": "code",
   "execution_count": null,
   "id": "2e2d192d",
   "metadata": {},
   "outputs": [
    {
     "data": {
      "text/plain": [
       "Index(['State', 'years', 'pop'], dtype='object')"
      ]
     },
     "execution_count": 97,
     "metadata": {},
     "output_type": "execute_result"
    }
   ],
   "source": [
    "#knowing the name of columns\n",
    "\n",
    "frame.columns"
   ]
  },
  {
   "cell_type": "code",
   "execution_count": 98,
   "id": "604c7b05",
   "metadata": {},
   "outputs": [
    {
     "data": {
      "text/plain": [
       "0    2000\n",
       "1    2001\n",
       "2    2002\n",
       "3    2003\n",
       "Name: years, dtype: int64"
      ]
     },
     "execution_count": 98,
     "metadata": {},
     "output_type": "execute_result"
    }
   ],
   "source": [
    "#choose column\n",
    "frame['years']"
   ]
  },
  {
   "cell_type": "code",
   "execution_count": 99,
   "id": "b7a706c7",
   "metadata": {},
   "outputs": [
    {
     "data": {
      "text/plain": [
       "array([0, 1, 2, 3])"
      ]
     },
     "execution_count": 99,
     "metadata": {},
     "output_type": "execute_result"
    }
   ],
   "source": [
    "#given that a column is a series \n",
    "frame.index.values\n"
   ]
  },
  {
   "cell_type": "code",
   "execution_count": 103,
   "id": "2a4be86b",
   "metadata": {},
   "outputs": [
    {
     "data": {
      "text/html": [
       "<div>\n",
       "<style scoped>\n",
       "    .dataframe tbody tr th:only-of-type {\n",
       "        vertical-align: middle;\n",
       "    }\n",
       "\n",
       "    .dataframe tbody tr th {\n",
       "        vertical-align: top;\n",
       "    }\n",
       "\n",
       "    .dataframe thead th {\n",
       "        text-align: right;\n",
       "    }\n",
       "</style>\n",
       "<table border=\"1\" class=\"dataframe\">\n",
       "  <thead>\n",
       "    <tr style=\"text-align: right;\">\n",
       "      <th></th>\n",
       "      <th>State</th>\n",
       "      <th>years</th>\n",
       "      <th>pop</th>\n",
       "    </tr>\n",
       "  </thead>\n",
       "  <tbody>\n",
       "    <tr>\n",
       "      <th>4</th>\n",
       "      <td>ohio</td>\n",
       "      <td>2000</td>\n",
       "      <td>1.3</td>\n",
       "    </tr>\n",
       "    <tr>\n",
       "      <th>5</th>\n",
       "      <td>ohio</td>\n",
       "      <td>2001</td>\n",
       "      <td>1.2</td>\n",
       "    </tr>\n",
       "    <tr>\n",
       "      <th>6</th>\n",
       "      <td>ohio</td>\n",
       "      <td>2002</td>\n",
       "      <td>3.4</td>\n",
       "    </tr>\n",
       "    <tr>\n",
       "      <th>7</th>\n",
       "      <td>Nevada</td>\n",
       "      <td>2003</td>\n",
       "      <td>6.0</td>\n",
       "    </tr>\n",
       "  </tbody>\n",
       "</table>\n",
       "</div>"
      ],
      "text/plain": [
       "    State  years  pop\n",
       "4    ohio   2000  1.3\n",
       "5    ohio   2001  1.2\n",
       "6    ohio   2002  3.4\n",
       "7  Nevada   2003  6.0"
      ]
     },
     "execution_count": 103,
     "metadata": {},
     "output_type": "execute_result"
    }
   ],
   "source": [
    "frame1 = pd.DataFrame(data, index=np.arange(4,8))\n",
    "frame1\n"
   ]
  },
  {
   "cell_type": "code",
   "execution_count": 106,
   "id": "90b762c0",
   "metadata": {},
   "outputs": [
    {
     "data": {
      "text/html": [
       "<div>\n",
       "<style scoped>\n",
       "    .dataframe tbody tr th:only-of-type {\n",
       "        vertical-align: middle;\n",
       "    }\n",
       "\n",
       "    .dataframe tbody tr th {\n",
       "        vertical-align: top;\n",
       "    }\n",
       "\n",
       "    .dataframe thead th {\n",
       "        text-align: right;\n",
       "    }\n",
       "</style>\n",
       "<table border=\"1\" class=\"dataframe\">\n",
       "  <thead>\n",
       "    <tr style=\"text-align: right;\">\n",
       "      <th></th>\n",
       "      <th>State</th>\n",
       "      <th>years</th>\n",
       "      <th>pop</th>\n",
       "    </tr>\n",
       "  </thead>\n",
       "  <tbody>\n",
       "    <tr>\n",
       "      <th>uno</th>\n",
       "      <td>ohio</td>\n",
       "      <td>2000</td>\n",
       "      <td>1.3</td>\n",
       "    </tr>\n",
       "    <tr>\n",
       "      <th>due</th>\n",
       "      <td>ohio</td>\n",
       "      <td>2001</td>\n",
       "      <td>1.2</td>\n",
       "    </tr>\n",
       "    <tr>\n",
       "      <th>tre</th>\n",
       "      <td>ohio</td>\n",
       "      <td>2002</td>\n",
       "      <td>3.4</td>\n",
       "    </tr>\n",
       "    <tr>\n",
       "      <th>quattro</th>\n",
       "      <td>Nevada</td>\n",
       "      <td>2003</td>\n",
       "      <td>6.0</td>\n",
       "    </tr>\n",
       "  </tbody>\n",
       "</table>\n",
       "</div>"
      ],
      "text/plain": [
       "          State  years  pop\n",
       "uno        ohio   2000  1.3\n",
       "due        ohio   2001  1.2\n",
       "tre        ohio   2002  3.4\n",
       "quattro  Nevada   2003  6.0"
      ]
     },
     "execution_count": 106,
     "metadata": {},
     "output_type": "execute_result"
    }
   ],
   "source": [
    "frame1.index = ['uno','due','tre','quattro']\n",
    "frame1"
   ]
  },
  {
   "cell_type": "code",
   "execution_count": 108,
   "id": "8c4e3790",
   "metadata": {},
   "outputs": [
    {
     "data": {
      "text/plain": [
       "uno          ohio\n",
       "due          ohio\n",
       "tre          ohio\n",
       "quattro    Nevada\n",
       "Name: State, dtype: object"
      ]
     },
     "execution_count": 108,
     "metadata": {},
     "output_type": "execute_result"
    }
   ],
   "source": [
    "frame1.State"
   ]
  },
  {
   "cell_type": "code",
   "execution_count": 113,
   "id": "ae9133eb",
   "metadata": {},
   "outputs": [
    {
     "name": "stderr",
     "output_type": "stream",
     "text": [
      "C:\\Users\\halima\\AppData\\Local\\Temp\\ipykernel_22764\\4042132094.py:3: FutureWarning: Series.__getitem__ treating keys as positions is deprecated. In a future version, integer keys will always be treated as labels (consistent with DataFrame behavior). To access a value by position, use `ser.iloc[pos]`\n",
      "  frame1['State'][1]\n"
     ]
    },
    {
     "data": {
      "text/plain": [
       "'ohio'"
      ]
     },
     "execution_count": 113,
     "metadata": {},
     "output_type": "execute_result"
    }
   ],
   "source": [
    "#get the second value of the column State\n",
    "\n",
    "frame1['State'][1]\n"
   ]
  },
  {
   "cell_type": "code",
   "execution_count": null,
   "id": "ea38b786",
   "metadata": {},
   "outputs": [],
   "source": []
  }
 ],
 "metadata": {
  "kernelspec": {
   "display_name": "venv",
   "language": "python",
   "name": "python3"
  },
  "language_info": {
   "codemirror_mode": {
    "name": "ipython",
    "version": 3
   },
   "file_extension": ".py",
   "mimetype": "text/x-python",
   "name": "python",
   "nbconvert_exporter": "python",
   "pygments_lexer": "ipython3",
   "version": "3.13.6"
  }
 },
 "nbformat": 4,
 "nbformat_minor": 5
}

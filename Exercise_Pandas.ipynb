{
 "cells": [
  {
   "cell_type": "code",
   "execution_count": null,
   "id": "e67d9eed",
   "metadata": {},
   "outputs": [],
   "source": [
    "'''Series are a couple of elements kinda like the dictionary'''"
   ]
  },
  {
   "cell_type": "code",
   "execution_count": 2,
   "id": "99c6a06f",
   "metadata": {},
   "outputs": [],
   "source": [
    "import pandas as pd\n",
    "import numpy as np"
   ]
  },
  {
   "cell_type": "code",
   "execution_count": null,
   "id": "d9a2307f",
   "metadata": {},
   "outputs": [
    {
     "name": "stdout",
     "output_type": "stream",
     "text": [
      "0    3\n",
      "1    7\n",
      "2    5\n",
      "3    8\n",
      "dtype: int64\n"
     ]
    }
   ],
   "source": [
    "#create a series that means create a sequence of numbers where each one is assigned by the index\n",
    "obj = pd.Series([3,7,5,8])\n",
    "print(obj) #first column is the index column, while the second is for the vaues"
   ]
  },
  {
   "cell_type": "code",
   "execution_count": 5,
   "id": "6d0a96b7",
   "metadata": {},
   "outputs": [
    {
     "name": "stdout",
     "output_type": "stream",
     "text": [
      "[3 7 5 8]\n",
      "RangeIndex(start=0, stop=4, step=1)\n"
     ]
    }
   ],
   "source": [
    "#let's have just the column value as output and then just the index column\n",
    "print(obj.values)\n",
    "print(obj.index)"
   ]
  },
  {
   "cell_type": "code",
   "execution_count": 9,
   "id": "af6d1b40",
   "metadata": {},
   "outputs": [
    {
     "name": "stdout",
     "output_type": "stream",
     "text": [
      "a    3\n",
      "b    6\n",
      "c    8\n",
      "d    2\n",
      "dtype: int64\n"
     ]
    }
   ],
   "source": [
    "#Actually i can change also the index column as i want, but for default the system just give you the sort numbers from 0 to n-1\n",
    "\n",
    "obj2 = pd.Series([3,6,8,2], index=(['a','b','c','d']))\n",
    "print(obj2)"
   ]
  },
  {
   "cell_type": "code",
   "execution_count": 10,
   "id": "b1e086a9",
   "metadata": {},
   "outputs": [
    {
     "data": {
      "text/plain": [
       "np.int64(8)"
      ]
     },
     "execution_count": 10,
     "metadata": {},
     "output_type": "execute_result"
    }
   ],
   "source": [
    "#to find the value based on the index:\n",
    "obj2['c']"
   ]
  },
  {
   "cell_type": "code",
   "execution_count": 11,
   "id": "53fe00b4",
   "metadata": {},
   "outputs": [
    {
     "data": {
      "text/plain": [
       "np.int64(17)"
      ]
     },
     "execution_count": 11,
     "metadata": {},
     "output_type": "execute_result"
    }
   ],
   "source": [
    "#Lets change the value of the index d\n",
    "obj2['d'] = 17\n",
    "obj2['d']"
   ]
  },
  {
   "cell_type": "code",
   "execution_count": 15,
   "id": "6bbb8f08",
   "metadata": {},
   "outputs": [
    {
     "data": {
      "text/plain": [
       "b    6\n",
       "c    8\n",
       "dtype: int64"
      ]
     },
     "execution_count": 15,
     "metadata": {},
     "output_type": "execute_result"
    }
   ],
   "source": [
    "#lets try the slicing\n",
    "obj2['b':'c']  "
   ]
  },
  {
   "cell_type": "code",
   "execution_count": 21,
   "id": "5ebdc7a7",
   "metadata": {},
   "outputs": [
    {
     "data": {
      "text/plain": [
       "a     True\n",
       "b     True\n",
       "c    False\n",
       "d    False\n",
       "dtype: bool"
      ]
     },
     "execution_count": 21,
     "metadata": {},
     "output_type": "execute_result"
    }
   ],
   "source": [
    "#if a use the '>' or '<' it will return the boolean array\n",
    "obj2 <=6"
   ]
  },
  {
   "cell_type": "code",
   "execution_count": 22,
   "id": "6a5c4c30",
   "metadata": {},
   "outputs": [
    {
     "data": {
      "text/plain": [
       "a    3\n",
       "b    6\n",
       "dtype: int64"
      ]
     },
     "execution_count": 22,
     "metadata": {},
     "output_type": "execute_result"
    }
   ],
   "source": [
    "#if i put the condition inside the square brackets it will return the Series with the elements that satisfy the condition\n",
    "obj2[obj2 <= 6]"
   ]
  },
  {
   "cell_type": "code",
   "execution_count": null,
   "id": "6734c593",
   "metadata": {},
   "outputs": [
    {
     "data": {
      "text/plain": [
       "False"
      ]
     },
     "execution_count": 24,
     "metadata": {},
     "output_type": "execute_result"
    }
   ],
   "source": [
    "#check if a index is in the Series\n",
    "'l' in obj2 #or l in obj2 also in this case will research inside the indexs\n"
   ]
  },
  {
   "cell_type": "code",
   "execution_count": null,
   "id": "ce72b14e",
   "metadata": {},
   "outputs": [
    {
     "data": {
      "text/plain": [
       "True"
      ]
     },
     "execution_count": 36,
     "metadata": {},
     "output_type": "execute_result"
    }
   ],
   "source": [
    "#check if it is in the values\n",
    "3 in obj2.values\n",
    "#obj2.isin([6]) another way that return a boolean array\n",
    "#obj2 == 2 same of the last comment"
   ]
  },
  {
   "cell_type": "code",
   "execution_count": 42,
   "id": "6ce9979d",
   "metadata": {},
   "outputs": [
    {
     "name": "stdout",
     "output_type": "stream",
     "text": [
      "a     3\n",
      "b     6\n",
      "c     8\n",
      "d    17\n",
      "dtype: int64\n",
      "True\n",
      "False\n",
      "1\n"
     ]
    }
   ],
   "source": [
    "#sum is used for sum the '1' in the boolean array\n",
    "#all is used for seeing if the condition is satisfy by all elements\n",
    "#any is usef for seeing if the condition is satisfy\n",
    "print(obj2)\n",
    "print((obj2 == 3).any())\n",
    "print((obj2 == 3).all())\n",
    "print((obj2 == 3).sum())\n",
    "\n"
   ]
  },
  {
   "cell_type": "code",
   "execution_count": 45,
   "id": "e4b294d5",
   "metadata": {},
   "outputs": [
    {
     "name": "stdout",
     "output_type": "stream",
     "text": [
      "a     6.0\n",
      "b    14.0\n",
      "c    10.0\n",
      "d    12.0\n",
      "l    10.0\n",
      "dtype: float64\n"
     ]
    }
   ],
   "source": [
    "#To do the addition between two series we can not do the simple plus\n",
    "#because the system usually check the index and sum just the elements \n",
    "#with the same index while the other will turn into NaN\n",
    "#to avoid this we need to use the function add\n",
    "\n",
    "obj3 = pd.Series([3, 7, 10, 6 ], index=['a','b','c','d'])\n",
    "\n",
    "obj4 = pd.Series([3, 7, 10, 6 ], index=['a','b','l','d'])\n",
    "print(obj3.add(obj4, fill_value=0))"
   ]
  }
 ],
 "metadata": {
  "kernelspec": {
   "display_name": "venv",
   "language": "python",
   "name": "python3"
  },
  "language_info": {
   "codemirror_mode": {
    "name": "ipython",
    "version": 3
   },
   "file_extension": ".py",
   "mimetype": "text/x-python",
   "name": "python",
   "nbconvert_exporter": "python",
   "pygments_lexer": "ipython3",
   "version": "3.13.6"
  }
 },
 "nbformat": 4,
 "nbformat_minor": 5
}
